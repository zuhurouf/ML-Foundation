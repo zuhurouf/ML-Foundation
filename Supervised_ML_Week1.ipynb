{
  "nbformat": 4,
  "nbformat_minor": 0,
  "metadata": {
    "colab": {
      "provenance": [],
      "authorship_tag": "ABX9TyNbNjT31MtT24STznGThEWa",
      "include_colab_link": true
    },
    "kernelspec": {
      "name": "python3",
      "display_name": "Python 3"
    },
    "language_info": {
      "name": "python"
    }
  },
  "cells": [
    {
      "cell_type": "markdown",
      "metadata": {
        "id": "view-in-github",
        "colab_type": "text"
      },
      "source": [
        "<a href=\"https://colab.research.google.com/github/zuhurouf/ML-Foundation/blob/main/Supervised_ML_Week1.ipynb\" target=\"_parent\"><img src=\"https://colab.research.google.com/assets/colab-badge.svg\" alt=\"Open In Colab\"/></a>"
      ]
    },
    {
      "cell_type": "markdown",
      "source": [
        "## What is Machine Learning?\n",
        "> \"Field of study that gives computers the ability to learn without being explitly programmed\" - Arthur Samuel\n",
        "\n",
        "### What is Supervised Learning?\n",
        "**Supervised Learning** is a type of machine learning where the algorithms are trained by providing both the input `x` and the corresponding correct output `y` such that the algorithms can predict output for an unknown input data with atmost accuracy. There are two types of algorithms under supervised learning, those are:\n",
        "\n",
        "\n",
        "1.   **Regression:** Predicting a number for a given input value\n",
        "2.   **Classification:** Predicting the category/class of a given input\n",
        "\n"
      ],
      "metadata": {
        "id": "3rv2984n4iW7"
      }
    },
    {
      "cell_type": "markdown",
      "source": [
        "### What is Unsupervised Learning?\n",
        "**Unsupervised Learning** is a type of machine learning where the algorithms are trained on data that has only the input `x` and doesn't have the correct output `y` to learn from. The objective of the algorithms will be to find structure or pattern in the given data. The different kinds of unsupervised learning are:\n",
        "\n",
        "\n",
        "1.   **Clustering:** Grouping the input data into different clusters or groups\n",
        "2.   **Anomaly detection:** Finding unusual data points in a given dataset\n",
        "3.   **Dimensionality reduction:** Compressing a larger dataset to a smaller one without losing much information\n",
        "\n"
      ],
      "metadata": {
        "id": "xLzyuI_KAyMM"
      }
    },
    {
      "cell_type": "code",
      "source": [],
      "metadata": {
        "id": "C8Al3zrmA1_C"
      },
      "execution_count": null,
      "outputs": []
    }
  ]
}