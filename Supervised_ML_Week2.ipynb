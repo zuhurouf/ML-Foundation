{
 "cells": [
  {
   "cell_type": "markdown",
   "metadata": {},
   "source": [
    "## Multiple linear regression\n",
    "\n",
    "A regression modal which takes in multiple dependent variables ($x_{1}, x_{2}, x_{3}, ..., x_{n}$) and tries to find the best fit line. The mathematical modal is as follows,</br>\n",
    "$$\n",
    "f_{\\vec{w},b} = \\vec{w}\\vec{x}+b\n",
    "$$\n",
    "where $\\vec{w}$ is a vector of weights ($[w_{1}, w_{2}, w_{3},...,w{n}]$) and $\\vec{x}$ is the vector of input features ($[x_{1}, x_{2}, x_{3},..., x_{n}]$). So the modal can be rewritten as,</br>\n",
    "$$\n",
    "f_{w,b} = w_{1}x_{1} + w_{2}x_{2} + w_{3}x_{3} + ... + w_{n}x_{n} + b\n",
    "$$\n",
    "As in univariate linear regression, $\\vec{w}$ and $\\vec{b}$ are the parameters of the modal.<br>\n",
    "The gradient of the algorithm to update the modal parameters are as follows,\n",
    "$$\n",
    "w_{i} = w_{i} - \\alpha\\frac{1}{m}\\sum_{i=1}^{n}(f_{\\vec{w}, b}(\\vec{x}_{i}) - y)x_{i}, i = 1,2,3,...,n\n",
    "$$\n",
    "$$\n",
    "b = b - \\alpha\\frac{1}{m}\\sum_{i=1}^{n}(f_{\\vec{w}, b}(\\vec{x}_{i}) - y)\n",
    "$$"
   ]
  },
  {
   "cell_type": "markdown",
   "metadata": {},
   "source": [
    "### Feature scaling\n",
    "For a dataset, there can be n number of input features each holding values from different ranges. One column may range from 100 to 1000, another one ranges from 0 to 10, another one range from 0.5 to 1.8 and so on. Training the modal using this raw dataset will lead in a biased result as one feature dominates the modal's result than the other features. Thus the modal may not be able to converge and find the minima.<br>\n",
    "\n",
    "In general, features with large range of possible values will have smaller parameter values and the features with small range of possible values will have larger parameter values. So a small change to the parameters of features with large range values will impact the modal's output drastically. One possible solution to resolve this is to scaling the values of all the features to one range of values which is called as **feature scaling**.\n",
    "\n",
    "Considering features $x_{1}, x_{2}, x_{3}$ and it's range of values as follows,\n",
    "$100 <= x_{1} <= 1000$ ;; $0 <= x_{2} <= 10$ ;; $0.5 <= x_{3} <= 1.8$<br>\n",
    "Scaling the range of values of all three features to $0 <= x_{1,2,3} <= 1$ will make the features comparable, converges quickly to find the minima.<br>\n",
    "Feature scaling can be implemented using the following three methods,\n",
    "1.  **Divide by the maximum of the possible range of values**<br>\n",
    "    For a feature **x**, divide each value by the maximum of the possible range of values. For ex., 10 to 100 is the possible range of values for $x_{1}$.<br>\n",
    "    Divide each values of $x$($x_{i}, i=1,2,...,n$) by 100.\n",
    "2.  **Mean normalization**<br>\n",
    "    For a feature **x**, find its mean($\\mu$) and perform the following calculation using the formula,\n",
    "    $$\n",
    "    x_{i} = \\frac{x_{i} - \\mu}{max(x) - min(x)}\n",
    "    $$\n",
    "3.  **Z-score normalization**<br>\n",
    "    For a feature **x**, find its mean $(\\mu)$ and standard devition $(\\sigma)$, perform the scaling using the following formula,\n",
    "    $$\n",
    "    x_{i} = \\frac{x_{i} - \\mu}{\\sigma}\n",
    "    $$\n",
    "    (**Note:** Above formula is used to standardize a skewed normal distribution)<br>\n",
    "\n",
    "###  Choosing the right learning rate ($\\alpha$)\n",
    "Learning rate determines how big the next step shuld be from the current step to find the global minima. If the value is too small, the time taken to converge increases and on the otherhand, if the $\\alpha$ is large, then the learning algorithm may not cnoverge at all. Try with different sets of values for $\\alpha$ and choose a number such that the algorithm finds converges with minimal time."
   ]
  },
  {
   "cell_type": "code",
   "execution_count": null,
   "metadata": {},
   "outputs": [],
   "source": []
  }
 ],
 "metadata": {
  "language_info": {
   "name": "python"
  }
 },
 "nbformat": 4,
 "nbformat_minor": 2
}
