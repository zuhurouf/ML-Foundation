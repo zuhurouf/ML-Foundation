{
 "cells": [
  {
   "cell_type": "markdown",
   "metadata": {},
   "source": [
    "## Multiple linear regression\n",
    "\n",
    "A regression modal which takes in multiple dependent variables ($x_{1}, x_{2}, x_{3}, ..., x_{n}$) and tries to find the best fit line. The mathematical modal is as follows,</br>\n",
    "$$\n",
    "f_{\\vec{w},b} = \\vec{w}\\vec{x}+b\n",
    "$$\n",
    "where $\\vec{w}$ is a vector of weights ($[w_{1}, w_{2}, w_{3},...,w{n}]$) and $\\vec{x}$ is the vector of input features ($[x_{1}, x_{2}, x_{3},..., x_{n}]$). So the modal can be rewritten as,</br>\n",
    "$$\n",
    "f_{w,b} = w_{1}x_{1} + w_{2}x_{2} + w_{3}x_{3} + ... + w_{n}x_{n} + b\n",
    "$$\n",
    "As in univariate linear regression, $\\vec{w}$ and $\\vec{b}$ are the parameters of the modal.<br>\n",
    "The gradient of the algorithm to update the modal parameters are as follows,\n",
    "$$\n",
    "w_{i} = w_{i} - \\alpha\\frac{1}{m}\\sum_{i=1}^{n}(f_{\\vec{w}, b}(\\vec{x}_{i}) - y)x_{i}, for i = 1,2,3,...,n\n",
    "$$\n",
    "$$\n",
    "b = b - \\alpha\\frac{1}{m}\\sum_{i=1}^{n}(f_{\\vec{w}, b}(\\vec{x}_{i}) - y)\n",
    "$$"
   ]
  },
  {
   "cell_type": "code",
   "execution_count": null,
   "metadata": {},
   "outputs": [],
   "source": []
  }
 ],
 "metadata": {
  "language_info": {
   "name": "python"
  }
 },
 "nbformat": 4,
 "nbformat_minor": 2
}
